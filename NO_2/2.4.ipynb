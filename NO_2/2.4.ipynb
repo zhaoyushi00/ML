{
 "cells": [
  {
   "cell_type": "code",
   "id": "initial_id",
   "metadata": {
    "collapsed": true,
    "ExecuteTime": {
     "end_time": "2024-10-15T02:10:29.453183Z",
     "start_time": "2024-10-15T02:10:29.446661Z"
    }
   },
   "source": [
    "import numpy as np\n",
    "X = np.array(5) # 创建0D张量，也就是标量\n",
    "print(\"X的值{}\".format(X))\n",
    "print(\"X的维度{}\".format(X.ndim)) # 或者说的是阶\n",
    "print(\"X的形状{}\".format(X.shape)) # 0标量的形状是没有的仅有（）\n",
    "print(\"X的类型{}\".format(type(X)))"
   ],
   "outputs": [
    {
     "name": "stdout",
     "output_type": "stream",
     "text": [
      "X的值5\n",
      "X的维度0\n",
      "X的形状()\n",
      "X的类型<class 'numpy.ndarray'>\n"
     ]
    }
   ],
   "execution_count": 2
  },
  {
   "metadata": {
    "ExecuteTime": {
     "end_time": "2024-10-15T02:15:11.651165Z",
     "start_time": "2024-10-15T02:15:11.642981Z"
    }
   },
   "cell_type": "code",
   "source": [
    "X = np.array([1,2,3,4,5])\n",
    "print(\"X的值{}\".format(X))\n",
    "print(\"X的维度{}\".format(X.ndim))\n",
    "print(\"X的形状{}\".format(X.shape)) # 1D张量,5个元素，所以是（5，）"
   ],
   "id": "e72ccadca3d3ed5a",
   "outputs": [
    {
     "name": "stdout",
     "output_type": "stream",
     "text": [
      "X的值[1 2 3 4 5]\n",
      "X的维度1\n",
      "X的形状(5,)\n"
     ]
    }
   ],
   "execution_count": 3
  },
  {
   "metadata": {
    "ExecuteTime": {
     "end_time": "2024-10-15T02:24:55.289392Z",
     "start_time": "2024-10-15T02:24:55.283139Z"
    }
   },
   "cell_type": "code",
   "source": [
    "#  向量的点积\n",
    "\n",
    "weight = np.array([1,2,3])\n",
    "X = np.array([4,5,6])\n",
    "print(np.dot(weight,X))"
   ],
   "id": "49dee7071a9e376d",
   "outputs": [
    {
     "name": "stdout",
     "output_type": "stream",
     "text": [
      "32\n"
     ]
    }
   ],
   "execution_count": 4
  }
 ],
 "metadata": {
  "kernelspec": {
   "display_name": "Python 3",
   "language": "python",
   "name": "python3"
  },
  "language_info": {
   "codemirror_mode": {
    "name": "ipython",
    "version": 2
   },
   "file_extension": ".py",
   "mimetype": "text/x-python",
   "name": "python",
   "nbconvert_exporter": "python",
   "pygments_lexer": "ipython2",
   "version": "2.7.6"
  }
 },
 "nbformat": 4,
 "nbformat_minor": 5
}
