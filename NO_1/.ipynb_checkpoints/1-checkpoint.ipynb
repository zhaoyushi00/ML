{
 "cells": [
  {
   "metadata": {},
   "cell_type": "markdown",
   "source": "***读取加州房价数据集***",
   "id": "b6303a7e8d9b7057"
  },
  {
   "cell_type": "code",
   "id": "initial_id",
   "metadata": {
    "collapsed": true,
    "ExecuteTime": {
     "end_time": "2024-10-13T10:50:39.350990Z",
     "start_time": "2024-10-13T10:50:38.290757Z"
    }
   },
   "source": [
    "import pandas as pd\n",
    "df_housing = pd.read_csv(\"house.csv\")"
   ],
   "outputs": [],
   "execution_count": 1
  },
  {
   "metadata": {},
   "cell_type": "code",
   "outputs": [],
   "execution_count": null,
   "source": [
    "# 构建特征集X\n",
    "X = df_housing.drop(\"median_house_value\", axis=1)\n",
    "# 构建标签集y\n",
    "y = df_housing.median_house_value"
   ],
   "id": "a35ed55dc2be095a"
  },
  {
   "metadata": {},
   "cell_type": "markdown",
   "source": "将数据集拆解为训练集和测试集",
   "id": "c50c454a61b012a2"
  },
  {
   "metadata": {},
   "cell_type": "code",
   "outputs": [],
   "execution_count": null,
   "source": [
    "from sklearn.model_selection import train_test_split\n",
    "# random_state 的作用：确保每次运行时的结果一致，便于调试和验证。\n",
    "X_train, X_test, y_train, y_test = train_test_split(X, y, test_size=0.2, random_state=42)"
   ],
   "id": "fa8ef8f870334e0f"
  },
  {
   "metadata": {},
   "cell_type": "markdown",
   "source": "用线性回归模型训练数据集",
   "id": "d68e7f645daa7351"
  },
  {
   "metadata": {},
   "cell_type": "code",
   "outputs": [],
   "execution_count": null,
   "source": [
    "from sklearn.linear_model import LinearRegression # 导入线性回归算法模型\n",
    "model = LinearRegression()\n",
    "model.fit(X_train, y_train)"
   ],
   "id": "976c318f09b9ed78"
  },
  {
   "metadata": {},
   "cell_type": "markdown",
   "source": "预测测试集的房价",
   "id": "3b46d69fd7c1e26"
  },
  {
   "metadata": {},
   "cell_type": "code",
   "outputs": [],
   "execution_count": null,
   "source": [
    "y_pred = model.predict(X_test)\n",
    "print(\"房价真实价值（测试集）:\", y_test)\n",
    "print(\"房价预测值（测试集）:\", y_pred)"
   ],
   "id": "ab78f73161972e20"
  },
  {
   "metadata": {},
   "cell_type": "code",
   "outputs": [],
   "execution_count": null,
   "source": "print(\"给模型评分:\", model.score(X_test, y_test))",
   "id": "28b92538cb7d5855"
  }
 ],
 "metadata": {
  "kernelspec": {
   "display_name": "Python 3",
   "language": "python",
   "name": "python3"
  },
  "language_info": {
   "codemirror_mode": {
    "name": "ipython",
    "version": 2
   },
   "file_extension": ".py",
   "mimetype": "text/x-python",
   "name": "python",
   "nbconvert_exporter": "python",
   "pygments_lexer": "ipython2",
   "version": "2.7.6"
  }
 },
 "nbformat": 4,
 "nbformat_minor": 5
}
