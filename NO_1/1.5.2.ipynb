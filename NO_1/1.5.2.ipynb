{
 "cells": [
  {
   "cell_type": "code",
   "id": "initial_id",
   "metadata": {
    "collapsed": true,
    "ExecuteTime": {
     "end_time": "2024-10-14T11:28:50.183845Z",
     "start_time": "2024-10-14T11:28:37.354748Z"
    }
   },
   "source": [
    "import numpy as np\n",
    "import pandas as pd\n",
    "from anaconda_project.internal.cli.activate import activate\n",
    "from keras.src.datasets import mnist #从Keras种导入MNIST数据集\n",
    "from tensorflow.python.keras.layers.pooling import Pooling2D\n",
    "\n",
    "(X_train_image, y_train_lable), (X_test_image, y_test_lable) = mnist.load_data()"
   ],
   "outputs": [],
   "execution_count": 1
  },
  {
   "metadata": {
    "ExecuteTime": {
     "end_time": "2024-10-14T11:22:33.783895100Z",
     "start_time": "2024-10-14T08:18:29.684060Z"
    }
   },
   "cell_type": "code",
   "source": [
    "print(\"数据集张量形状:\", X_train_image.shape)\n",
    "print(\"第一个数据样本:\\n\", X_train_image[0])"
   ],
   "id": "b7627f48fff56d03",
   "outputs": [
    {
     "name": "stdout",
     "output_type": "stream",
     "text": [
      "数据集张量形状: (60000, 28, 28)\n",
      "第一个数据样本:\n",
      " [[  0   0   0   0   0   0   0   0   0   0   0   0   0   0   0   0   0   0\n",
      "    0   0   0   0   0   0   0   0   0   0]\n",
      " [  0   0   0   0   0   0   0   0   0   0   0   0   0   0   0   0   0   0\n",
      "    0   0   0   0   0   0   0   0   0   0]\n",
      " [  0   0   0   0   0   0   0   0   0   0   0   0   0   0   0   0   0   0\n",
      "    0   0   0   0   0   0   0   0   0   0]\n",
      " [  0   0   0   0   0   0   0   0   0   0   0   0   0   0   0   0   0   0\n",
      "    0   0   0   0   0   0   0   0   0   0]\n",
      " [  0   0   0   0   0   0   0   0   0   0   0   0   0   0   0   0   0   0\n",
      "    0   0   0   0   0   0   0   0   0   0]\n",
      " [  0   0   0   0   0   0   0   0   0   0   0   0   3  18  18  18 126 136\n",
      "  175  26 166 255 247 127   0   0   0   0]\n",
      " [  0   0   0   0   0   0   0   0  30  36  94 154 170 253 253 253 253 253\n",
      "  225 172 253 242 195  64   0   0   0   0]\n",
      " [  0   0   0   0   0   0   0  49 238 253 253 253 253 253 253 253 253 251\n",
      "   93  82  82  56  39   0   0   0   0   0]\n",
      " [  0   0   0   0   0   0   0  18 219 253 253 253 253 253 198 182 247 241\n",
      "    0   0   0   0   0   0   0   0   0   0]\n",
      " [  0   0   0   0   0   0   0   0  80 156 107 253 253 205  11   0  43 154\n",
      "    0   0   0   0   0   0   0   0   0   0]\n",
      " [  0   0   0   0   0   0   0   0   0  14   1 154 253  90   0   0   0   0\n",
      "    0   0   0   0   0   0   0   0   0   0]\n",
      " [  0   0   0   0   0   0   0   0   0   0   0 139 253 190   2   0   0   0\n",
      "    0   0   0   0   0   0   0   0   0   0]\n",
      " [  0   0   0   0   0   0   0   0   0   0   0  11 190 253  70   0   0   0\n",
      "    0   0   0   0   0   0   0   0   0   0]\n",
      " [  0   0   0   0   0   0   0   0   0   0   0   0  35 241 225 160 108   1\n",
      "    0   0   0   0   0   0   0   0   0   0]\n",
      " [  0   0   0   0   0   0   0   0   0   0   0   0   0  81 240 253 253 119\n",
      "   25   0   0   0   0   0   0   0   0   0]\n",
      " [  0   0   0   0   0   0   0   0   0   0   0   0   0   0  45 186 253 253\n",
      "  150  27   0   0   0   0   0   0   0   0]\n",
      " [  0   0   0   0   0   0   0   0   0   0   0   0   0   0   0  16  93 252\n",
      "  253 187   0   0   0   0   0   0   0   0]\n",
      " [  0   0   0   0   0   0   0   0   0   0   0   0   0   0   0   0   0 249\n",
      "  253 249  64   0   0   0   0   0   0   0]\n",
      " [  0   0   0   0   0   0   0   0   0   0   0   0   0   0  46 130 183 253\n",
      "  253 207   2   0   0   0   0   0   0   0]\n",
      " [  0   0   0   0   0   0   0   0   0   0   0   0  39 148 229 253 253 253\n",
      "  250 182   0   0   0   0   0   0   0   0]\n",
      " [  0   0   0   0   0   0   0   0   0   0  24 114 221 253 253 253 253 201\n",
      "   78   0   0   0   0   0   0   0   0   0]\n",
      " [  0   0   0   0   0   0   0   0  23  66 213 253 253 253 253 198  81   2\n",
      "    0   0   0   0   0   0   0   0   0   0]\n",
      " [  0   0   0   0   0   0  18 171 219 253 253 253 253 195  80   9   0   0\n",
      "    0   0   0   0   0   0   0   0   0   0]\n",
      " [  0   0   0   0  55 172 226 253 253 253 253 244 133  11   0   0   0   0\n",
      "    0   0   0   0   0   0   0   0   0   0]\n",
      " [  0   0   0   0 136 253 253 253 212 135 132  16   0   0   0   0   0   0\n",
      "    0   0   0   0   0   0   0   0   0   0]\n",
      " [  0   0   0   0   0   0   0   0   0   0   0   0   0   0   0   0   0   0\n",
      "    0   0   0   0   0   0   0   0   0   0]\n",
      " [  0   0   0   0   0   0   0   0   0   0   0   0   0   0   0   0   0   0\n",
      "    0   0   0   0   0   0   0   0   0   0]\n",
      " [  0   0   0   0   0   0   0   0   0   0   0   0   0   0   0   0   0   0\n",
      "    0   0   0   0   0   0   0   0   0   0]]\n"
     ]
    }
   ],
   "execution_count": 3
  },
  {
   "metadata": {
    "ExecuteTime": {
     "end_time": "2024-10-14T11:22:33.793060100Z",
     "start_time": "2024-10-14T08:32:41.373319Z"
    }
   },
   "cell_type": "code",
   "source": "print(\"第一个数据样本的标签:\", y_train_lable[0])",
   "id": "fc6be1143032d9a9",
   "outputs": [
    {
     "name": "stdout",
     "output_type": "stream",
     "text": [
      "第一个数据样本的标签: 5\n"
     ]
    }
   ],
   "execution_count": 4
  },
  {
   "metadata": {
    "ExecuteTime": {
     "end_time": "2024-10-14T11:29:00.899614Z",
     "start_time": "2024-10-14T11:29:00.885447Z"
    }
   },
   "cell_type": "code",
   "source": [
    "from keras.src.utils import to_categorical\n",
    "X_train = X_train_image.reshape(60000, 28, 28, 1)\n",
    "X_test = X_test_image.reshape(10000, 28, 28, 1)\n",
    "# 特征转换为one—hot编码\n",
    "y_train = to_categorical(y_train_lable, num_classes=10)\n",
    "y_test = to_categorical(y_test_lable, num_classes=10)\n",
    "print(\"训练集张量形状:\", X_train.shape)\n",
    "print(\"第一个数据标签:\", y_train[0])"
   ],
   "id": "df0815df7a663c3",
   "outputs": [
    {
     "name": "stdout",
     "output_type": "stream",
     "text": [
      "训练集张量形状: (60000, 28, 28, 1)\n",
      "第一个数据标签: [0. 0. 0. 0. 0. 1. 0. 0. 0. 0.]\n"
     ]
    }
   ],
   "execution_count": 2
  },
  {
   "metadata": {
    "ExecuteTime": {
     "end_time": "2024-10-14T11:29:04.254668Z",
     "start_time": "2024-10-14T11:29:04.040890Z"
    }
   },
   "cell_type": "code",
   "source": [
    "from keras import models\n",
    "from keras.src.layers import Conv2D, MaxPooling2D, Dropout, Flatten, Dense\n",
    "\n",
    "model = models.Sequential() # 用顺序模型建立网络结构\n",
    "model.add(Conv2D(32,(3,3), activation='relu', input_shape=(28,28,1)))\n",
    "model.add(MaxPooling2D(pool_size=(2,2)))\n",
    "model.add(Conv2D(64,(3,3), activation='relu'))\n",
    "model.add(MaxPooling2D(pool_size=(2,2)))\n",
    "# Dropout 层来减少神经网络训练过程中的过拟合问题\n",
    "# Dropout 层会在训练过程中随机丢弃一部分神经元的输出，从而提高模型的泛化能力。\n",
    "model.add(Dropout(0.25))\n",
    "model.add(Flatten())\n",
    "model.add(Dense(128, activation='relu'))\n",
    "model.add(Dropout(0.5))\n",
    "model.add(Dense(10, activation='softmax'))\n",
    "# 编译模型\n",
    "model.compile(optimizer='rmsprop', loss='categorical_crossentropy', metrics=['accuracy'])\n"
   ],
   "id": "9d9c37c5e0463d5",
   "outputs": [
    {
     "name": "stderr",
     "output_type": "stream",
     "text": [
      "D:\\anaconda3\\Lib\\site-packages\\keras\\src\\layers\\convolutional\\base_conv.py:107: UserWarning: Do not pass an `input_shape`/`input_dim` argument to a layer. When using Sequential models, prefer using an `Input(shape)` object as the first layer in the model instead.\n",
      "  super().__init__(activity_regularizer=activity_regularizer, **kwargs)\n"
     ]
    }
   ],
   "execution_count": 3
  },
  {
   "metadata": {
    "ExecuteTime": {
     "end_time": "2024-10-14T11:29:54.271242Z",
     "start_time": "2024-10-14T11:29:07.999278Z"
    }
   },
   "cell_type": "code",
   "source": [
    "model.fit(X_train, y_train, \n",
    "          validation_split=0.3,\n",
    "          epochs=5,\n",
    "          batch_size=128)"
   ],
   "id": "d1f75137c963320d",
   "outputs": [
    {
     "name": "stdout",
     "output_type": "stream",
     "text": [
      "Epoch 1/5\n",
      "\u001B[1m329/329\u001B[0m \u001B[32m━━━━━━━━━━━━━━━━━━━━\u001B[0m\u001B[37m\u001B[0m \u001B[1m10s\u001B[0m 27ms/step - accuracy: 0.6620 - loss: 4.0356 - val_accuracy: 0.9598 - val_loss: 0.1460\n",
      "Epoch 2/5\n",
      "\u001B[1m329/329\u001B[0m \u001B[32m━━━━━━━━━━━━━━━━━━━━\u001B[0m\u001B[37m\u001B[0m \u001B[1m9s\u001B[0m 27ms/step - accuracy: 0.9404 - loss: 0.2186 - val_accuracy: 0.9734 - val_loss: 0.0976\n",
      "Epoch 3/5\n",
      "\u001B[1m329/329\u001B[0m \u001B[32m━━━━━━━━━━━━━━━━━━━━\u001B[0m\u001B[37m\u001B[0m \u001B[1m9s\u001B[0m 26ms/step - accuracy: 0.9589 - loss: 0.1448 - val_accuracy: 0.9798 - val_loss: 0.0691\n",
      "Epoch 4/5\n",
      "\u001B[1m329/329\u001B[0m \u001B[32m━━━━━━━━━━━━━━━━━━━━\u001B[0m\u001B[37m\u001B[0m \u001B[1m9s\u001B[0m 26ms/step - accuracy: 0.9690 - loss: 0.1106 - val_accuracy: 0.9808 - val_loss: 0.0639\n",
      "Epoch 5/5\n",
      "\u001B[1m329/329\u001B[0m \u001B[32m━━━━━━━━━━━━━━━━━━━━\u001B[0m\u001B[37m\u001B[0m \u001B[1m9s\u001B[0m 29ms/step - accuracy: 0.9722 - loss: 0.1047 - val_accuracy: 0.9842 - val_loss: 0.0596\n"
     ]
    },
    {
     "data": {
      "text/plain": [
       "<keras.src.callbacks.history.History at 0x1ae7f5228d0>"
      ]
     },
     "execution_count": 4,
     "metadata": {},
     "output_type": "execute_result"
    }
   ],
   "execution_count": 4
  },
  {
   "metadata": {
    "ExecuteTime": {
     "end_time": "2024-10-14T11:30:48.487267Z",
     "start_time": "2024-10-14T11:30:47.559440Z"
    }
   },
   "cell_type": "code",
   "source": [
    "score = model.evaluate(X_test, y_test)\n",
    "print(\"测试集:\", score)"
   ],
   "id": "6b8cc481ecc85dd4",
   "outputs": [
    {
     "name": "stdout",
     "output_type": "stream",
     "text": [
      "\u001B[1m313/313\u001B[0m \u001B[32m━━━━━━━━━━━━━━━━━━━━\u001B[0m\u001B[37m\u001B[0m \u001B[1m1s\u001B[0m 3ms/step - accuracy: 0.9837 - loss: 0.0623\n",
      "测试集: [0.052874334156513214, 0.9861999750137329]\n"
     ]
    }
   ],
   "execution_count": 5
  },
  {
   "metadata": {
    "ExecuteTime": {
     "end_time": "2024-10-14T12:02:26.558170Z",
     "start_time": "2024-10-14T12:02:24.352395Z"
    }
   },
   "cell_type": "code",
   "source": [
    "# 预测测试集第一个数据\n",
    "pred = model.predict(X_test[0].reshape(1,28,28,1))\n",
    "# 把one-hot编码转换为数字\n",
    "print(\"{}转换一下格式得到:{}\".format(pred[0], pred.argmax()))\n",
    "import matplotlib.pyplot as plt\n",
    "plt.imshow(X_test[0].reshape(28, 28), cmap='Greys')"
   ],
   "id": "bbf45beba8c31d81",
   "outputs": [
    {
     "name": "stdout",
     "output_type": "stream",
     "text": [
      "\u001B[1m1/1\u001B[0m \u001B[32m━━━━━━━━━━━━━━━━━━━━\u001B[0m\u001B[37m\u001B[0m \u001B[1m0s\u001B[0m 310ms/step\n",
      "[4.7669540e-13 3.0380223e-10 7.0825301e-09 6.8251857e-08 8.8882959e-13\n",
      " 1.6923931e-12 4.9433875e-19 9.9999988e-01 4.3164049e-12 4.0452446e-09]转换一下格式得到:7\n"
     ]
    },
    {
     "data": {
      "text/plain": [
       "<matplotlib.image.AxesImage at 0x1ae0635e6c0>"
      ]
     },
     "execution_count": 6,
     "metadata": {},
     "output_type": "execute_result"
    },
    {
     "data": {
      "text/plain": [
       "<Figure size 640x480 with 1 Axes>"
      ],
      "image/png": "[encoded data removed]"
     },
     "metadata": {},
     "output_type": "display_data"
    }
   ],
   "execution_count": 6
  }
 ],
 "metadata": {
  "kernelspec": {
   "display_name": "Python 3",
   "language": "python",
   "name": "python3"
  },
  "language_info": {
   "codemirror_mode": {
    "name": "ipython",
    "version": 2
   },
   "file_extension": ".py",
   "mimetype": "text/x-python",
   "name": "python",
   "nbconvert_exporter": "python",
   "pygments_lexer": "ipython2",
   "version": "2.7.6"
  }
 },
 "nbformat": 4,
 "nbformat_minor": 5
}
